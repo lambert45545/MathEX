{
  "cells": [
    {
      "cell_type": "code",
      "source": [
        "!python --version"
      ],
      "metadata": {
        "id": "H3Tj0hKT2vJX",
        "outputId": "a0503d13-d0fc-4652-93a1-d03ac9c29029",
        "colab": {
          "base_uri": "https://localhost:8080/"
        }
      },
      "id": "H3Tj0hKT2vJX",
      "execution_count": 1,
      "outputs": [
        {
          "output_type": "stream",
          "name": "stdout",
          "text": [
            "Python 3.10.12\n"
          ]
        }
      ]
    },
    {
      "cell_type": "code",
      "source": [
        "# !pip install flask-ngrok\n",
        "!pip install qiskit-terra==0.20.2\n",
        "!pip install qiskit-aer==0.10.4\n",
        "!pip install qiskit-nature==0.4.0"
      ],
      "metadata": {
        "colab": {
          "base_uri": "https://localhost:8080/"
        },
        "id": "Q7RitZ32xnZp",
        "outputId": "1af5cb91-28f5-4acc-a5b5-0b5f1d6b3548"
      },
      "id": "Q7RitZ32xnZp",
      "execution_count": 2,
      "outputs": [
        {
          "output_type": "stream",
          "name": "stdout",
          "text": [
            "Collecting qiskit-terra==0.20.2\n",
            "  Downloading qiskit_terra-0.20.2-cp310-cp310-manylinux_2_17_x86_64.manylinux2014_x86_64.whl.metadata (8.4 kB)\n",
            "Collecting retworkx>=0.11.0 (from qiskit-terra==0.20.2)\n",
            "  Downloading retworkx-0.15.1-py3-none-any.whl.metadata (10 kB)\n",
            "Requirement already satisfied: numpy>=1.17 in /usr/local/lib/python3.10/dist-packages (from qiskit-terra==0.20.2) (1.26.4)\n",
            "Collecting ply>=3.10 (from qiskit-terra==0.20.2)\n",
            "  Downloading ply-3.11-py2.py3-none-any.whl.metadata (844 bytes)\n",
            "Requirement already satisfied: psutil>=5 in /usr/local/lib/python3.10/dist-packages (from qiskit-terra==0.20.2) (5.9.5)\n",
            "Requirement already satisfied: scipy>=1.5 in /usr/local/lib/python3.10/dist-packages (from qiskit-terra==0.20.2) (1.13.1)\n",
            "Requirement already satisfied: sympy>=1.3 in /usr/local/lib/python3.10/dist-packages (from qiskit-terra==0.20.2) (1.13.1)\n",
            "Collecting dill>=0.3 (from qiskit-terra==0.20.2)\n",
            "  Downloading dill-0.3.9-py3-none-any.whl.metadata (10 kB)\n",
            "Collecting python-constraint>=1.4 (from qiskit-terra==0.20.2)\n",
            "  Downloading python-constraint-1.4.0.tar.bz2 (18 kB)\n",
            "  Preparing metadata (setup.py) ... \u001b[?25l\u001b[?25hdone\n",
            "Requirement already satisfied: python-dateutil>=2.8.0 in /usr/local/lib/python3.10/dist-packages (from qiskit-terra==0.20.2) (2.8.2)\n",
            "Collecting stevedore>=3.0.0 (from qiskit-terra==0.20.2)\n",
            "  Downloading stevedore-5.3.0-py3-none-any.whl.metadata (2.3 kB)\n",
            "Collecting tweedledum<2.0,>=1.1 (from qiskit-terra==0.20.2)\n",
            "  Downloading tweedledum-1.1.1-cp310-cp310-manylinux_2_12_x86_64.manylinux2010_x86_64.whl.metadata (10.0 kB)\n",
            "Collecting symengine>=0.9 (from qiskit-terra==0.20.2)\n",
            "  Downloading symengine-0.13.0-cp310-cp310-manylinux_2_17_x86_64.manylinux2014_x86_64.whl.metadata (1.2 kB)\n",
            "Requirement already satisfied: six>=1.5 in /usr/local/lib/python3.10/dist-packages (from python-dateutil>=2.8.0->qiskit-terra==0.20.2) (1.16.0)\n",
            "Collecting rustworkx==0.15.1 (from retworkx>=0.11.0->qiskit-terra==0.20.2)\n",
            "  Downloading rustworkx-0.15.1-cp38-abi3-manylinux_2_17_x86_64.manylinux2014_x86_64.whl.metadata (9.9 kB)\n",
            "Collecting pbr>=2.0.0 (from stevedore>=3.0.0->qiskit-terra==0.20.2)\n",
            "  Downloading pbr-6.1.0-py2.py3-none-any.whl.metadata (3.4 kB)\n",
            "Requirement already satisfied: mpmath<1.4,>=1.1.0 in /usr/local/lib/python3.10/dist-packages (from sympy>=1.3->qiskit-terra==0.20.2) (1.3.0)\n",
            "Downloading qiskit_terra-0.20.2-cp310-cp310-manylinux_2_17_x86_64.manylinux2014_x86_64.whl (6.5 MB)\n",
            "\u001b[2K   \u001b[90m━━━━━━━━━━━━━━━━━━━━━━━━━━━━━━━━━━━━━━━━\u001b[0m \u001b[32m6.5/6.5 MB\u001b[0m \u001b[31m50.8 MB/s\u001b[0m eta \u001b[36m0:00:00\u001b[0m\n",
            "\u001b[?25hDownloading dill-0.3.9-py3-none-any.whl (119 kB)\n",
            "\u001b[2K   \u001b[90m━━━━━━━━━━━━━━━━━━━━━━━━━━━━━━━━━━━━━━━━\u001b[0m \u001b[32m119.4/119.4 kB\u001b[0m \u001b[31m8.6 MB/s\u001b[0m eta \u001b[36m0:00:00\u001b[0m\n",
            "\u001b[?25hDownloading ply-3.11-py2.py3-none-any.whl (49 kB)\n",
            "\u001b[2K   \u001b[90m━━━━━━━━━━━━━━━━━━━━━━━━━━━━━━━━━━━━━━━━\u001b[0m \u001b[32m49.6/49.6 kB\u001b[0m \u001b[31m3.2 MB/s\u001b[0m eta \u001b[36m0:00:00\u001b[0m\n",
            "\u001b[?25hDownloading retworkx-0.15.1-py3-none-any.whl (10 kB)\n",
            "Downloading rustworkx-0.15.1-cp38-abi3-manylinux_2_17_x86_64.manylinux2014_x86_64.whl (2.0 MB)\n",
            "\u001b[2K   \u001b[90m━━━━━━━━━━━━━━━━━━━━━━━━━━━━━━━━━━━━━━━━\u001b[0m \u001b[32m2.0/2.0 MB\u001b[0m \u001b[31m60.7 MB/s\u001b[0m eta \u001b[36m0:00:00\u001b[0m\n",
            "\u001b[?25hDownloading stevedore-5.3.0-py3-none-any.whl (49 kB)\n",
            "\u001b[2K   \u001b[90m━━━━━━━━━━━━━━━━━━━━━━━━━━━━━━━━━━━━━━━━\u001b[0m \u001b[32m49.7/49.7 kB\u001b[0m \u001b[31m2.9 MB/s\u001b[0m eta \u001b[36m0:00:00\u001b[0m\n",
            "\u001b[?25hDownloading symengine-0.13.0-cp310-cp310-manylinux_2_17_x86_64.manylinux2014_x86_64.whl (49.7 MB)\n",
            "\u001b[2K   \u001b[90m━━━━━━━━━━━━━━━━━━━━━━━━━━━━━━━━━━━━━━━━\u001b[0m \u001b[32m49.7/49.7 MB\u001b[0m \u001b[31m15.5 MB/s\u001b[0m eta \u001b[36m0:00:00\u001b[0m\n",
            "\u001b[?25hDownloading tweedledum-1.1.1-cp310-cp310-manylinux_2_12_x86_64.manylinux2010_x86_64.whl (929 kB)\n",
            "\u001b[2K   \u001b[90m━━━━━━━━━━━━━━━━━━━━━━━━━━━━━━━━━━━━━━━━\u001b[0m \u001b[32m929.7/929.7 kB\u001b[0m \u001b[31m35.7 MB/s\u001b[0m eta \u001b[36m0:00:00\u001b[0m\n",
            "\u001b[?25hDownloading pbr-6.1.0-py2.py3-none-any.whl (108 kB)\n",
            "\u001b[2K   \u001b[90m━━━━━━━━━━━━━━━━━━━━━━━━━━━━━━━━━━━━━━━━\u001b[0m \u001b[32m108.5/108.5 kB\u001b[0m \u001b[31m8.3 MB/s\u001b[0m eta \u001b[36m0:00:00\u001b[0m\n",
            "\u001b[?25hBuilding wheels for collected packages: python-constraint\n",
            "  Building wheel for python-constraint (setup.py) ... \u001b[?25l\u001b[?25hdone\n",
            "  Created wheel for python-constraint: filename=python_constraint-1.4.0-py2.py3-none-any.whl size=24059 sha256=80c44d8e54450942d7fde23f1d363b1ab8b1ea91f7a5047028426de648617443\n",
            "  Stored in directory: /root/.cache/pip/wheels/2e/f2/2b/cb08b5fe129e4f69b7033061f256e5c551b0aa1160c2872aee\n",
            "Successfully built python-constraint\n",
            "Installing collected packages: python-constraint, ply, tweedledum, symengine, rustworkx, pbr, dill, stevedore, retworkx, qiskit-terra\n",
            "Successfully installed dill-0.3.9 pbr-6.1.0 ply-3.11 python-constraint-1.4.0 qiskit-terra-0.20.2 retworkx-0.15.1 rustworkx-0.15.1 stevedore-5.3.0 symengine-0.13.0 tweedledum-1.1.1\n",
            "Collecting qiskit-aer==0.10.4\n",
            "  Downloading qiskit_aer-0.10.4-cp310-cp310-manylinux_2_17_x86_64.manylinux2014_x86_64.whl.metadata (6.4 kB)\n",
            "Requirement already satisfied: numpy>=1.16.3 in /usr/local/lib/python3.10/dist-packages (from qiskit-aer==0.10.4) (1.26.4)\n",
            "Requirement already satisfied: qiskit-terra>=0.19.1 in /usr/local/lib/python3.10/dist-packages (from qiskit-aer==0.10.4) (0.20.2)\n",
            "Requirement already satisfied: scipy>=1.0 in /usr/local/lib/python3.10/dist-packages (from qiskit-aer==0.10.4) (1.13.1)\n",
            "Requirement already satisfied: retworkx>=0.11.0 in /usr/local/lib/python3.10/dist-packages (from qiskit-terra>=0.19.1->qiskit-aer==0.10.4) (0.15.1)\n",
            "Requirement already satisfied: ply>=3.10 in /usr/local/lib/python3.10/dist-packages (from qiskit-terra>=0.19.1->qiskit-aer==0.10.4) (3.11)\n",
            "Requirement already satisfied: psutil>=5 in /usr/local/lib/python3.10/dist-packages (from qiskit-terra>=0.19.1->qiskit-aer==0.10.4) (5.9.5)\n",
            "Requirement already satisfied: sympy>=1.3 in /usr/local/lib/python3.10/dist-packages (from qiskit-terra>=0.19.1->qiskit-aer==0.10.4) (1.13.1)\n",
            "Requirement already satisfied: dill>=0.3 in /usr/local/lib/python3.10/dist-packages (from qiskit-terra>=0.19.1->qiskit-aer==0.10.4) (0.3.9)\n",
            "Requirement already satisfied: python-constraint>=1.4 in /usr/local/lib/python3.10/dist-packages (from qiskit-terra>=0.19.1->qiskit-aer==0.10.4) (1.4.0)\n",
            "Requirement already satisfied: python-dateutil>=2.8.0 in /usr/local/lib/python3.10/dist-packages (from qiskit-terra>=0.19.1->qiskit-aer==0.10.4) (2.8.2)\n",
            "Requirement already satisfied: stevedore>=3.0.0 in /usr/local/lib/python3.10/dist-packages (from qiskit-terra>=0.19.1->qiskit-aer==0.10.4) (5.3.0)\n",
            "Requirement already satisfied: tweedledum<2.0,>=1.1 in /usr/local/lib/python3.10/dist-packages (from qiskit-terra>=0.19.1->qiskit-aer==0.10.4) (1.1.1)\n",
            "Requirement already satisfied: symengine>=0.9 in /usr/local/lib/python3.10/dist-packages (from qiskit-terra>=0.19.1->qiskit-aer==0.10.4) (0.13.0)\n",
            "Requirement already satisfied: six>=1.5 in /usr/local/lib/python3.10/dist-packages (from python-dateutil>=2.8.0->qiskit-terra>=0.19.1->qiskit-aer==0.10.4) (1.16.0)\n",
            "Requirement already satisfied: rustworkx==0.15.1 in /usr/local/lib/python3.10/dist-packages (from retworkx>=0.11.0->qiskit-terra>=0.19.1->qiskit-aer==0.10.4) (0.15.1)\n",
            "Requirement already satisfied: pbr>=2.0.0 in /usr/local/lib/python3.10/dist-packages (from stevedore>=3.0.0->qiskit-terra>=0.19.1->qiskit-aer==0.10.4) (6.1.0)\n",
            "Requirement already satisfied: mpmath<1.4,>=1.1.0 in /usr/local/lib/python3.10/dist-packages (from sympy>=1.3->qiskit-terra>=0.19.1->qiskit-aer==0.10.4) (1.3.0)\n",
            "Downloading qiskit_aer-0.10.4-cp310-cp310-manylinux_2_17_x86_64.manylinux2014_x86_64.whl (19.1 MB)\n",
            "\u001b[2K   \u001b[90m━━━━━━━━━━━━━━━━━━━━━━━━━━━━━━━━━━━━━━━━\u001b[0m \u001b[32m19.1/19.1 MB\u001b[0m \u001b[31m66.3 MB/s\u001b[0m eta \u001b[36m0:00:00\u001b[0m\n",
            "\u001b[?25hInstalling collected packages: qiskit-aer\n",
            "Successfully installed qiskit-aer-0.10.4\n",
            "Collecting qiskit-nature==0.4.0\n",
            "  Downloading qiskit_nature-0.4.0-py3-none-any.whl.metadata (11 kB)\n",
            "Requirement already satisfied: qiskit-terra>=0.20.0 in /usr/local/lib/python3.10/dist-packages (from qiskit-nature==0.4.0) (0.20.2)\n",
            "Requirement already satisfied: scipy>=1.4 in /usr/local/lib/python3.10/dist-packages (from qiskit-nature==0.4.0) (1.13.1)\n",
            "Requirement already satisfied: numpy>=1.17 in /usr/local/lib/python3.10/dist-packages (from qiskit-nature==0.4.0) (1.26.4)\n",
            "Requirement already satisfied: psutil>=5 in /usr/local/lib/python3.10/dist-packages (from qiskit-nature==0.4.0) (5.9.5)\n",
            "Requirement already satisfied: scikit-learn>=0.20.0 in /usr/local/lib/python3.10/dist-packages (from qiskit-nature==0.4.0) (1.5.2)\n",
            "Requirement already satisfied: setuptools>=40.1.0 in /usr/local/lib/python3.10/dist-packages (from qiskit-nature==0.4.0) (75.1.0)\n",
            "Requirement already satisfied: typing-extensions in /usr/local/lib/python3.10/dist-packages (from qiskit-nature==0.4.0) (4.12.2)\n",
            "Requirement already satisfied: h5py in /usr/local/lib/python3.10/dist-packages (from qiskit-nature==0.4.0) (3.12.1)\n",
            "Requirement already satisfied: retworkx>=0.10.1 in /usr/local/lib/python3.10/dist-packages (from qiskit-nature==0.4.0) (0.15.1)\n",
            "Requirement already satisfied: ply>=3.10 in /usr/local/lib/python3.10/dist-packages (from qiskit-terra>=0.20.0->qiskit-nature==0.4.0) (3.11)\n",
            "Requirement already satisfied: sympy>=1.3 in /usr/local/lib/python3.10/dist-packages (from qiskit-terra>=0.20.0->qiskit-nature==0.4.0) (1.13.1)\n",
            "Requirement already satisfied: dill>=0.3 in /usr/local/lib/python3.10/dist-packages (from qiskit-terra>=0.20.0->qiskit-nature==0.4.0) (0.3.9)\n",
            "Requirement already satisfied: python-constraint>=1.4 in /usr/local/lib/python3.10/dist-packages (from qiskit-terra>=0.20.0->qiskit-nature==0.4.0) (1.4.0)\n",
            "Requirement already satisfied: python-dateutil>=2.8.0 in /usr/local/lib/python3.10/dist-packages (from qiskit-terra>=0.20.0->qiskit-nature==0.4.0) (2.8.2)\n",
            "Requirement already satisfied: stevedore>=3.0.0 in /usr/local/lib/python3.10/dist-packages (from qiskit-terra>=0.20.0->qiskit-nature==0.4.0) (5.3.0)\n",
            "Requirement already satisfied: tweedledum<2.0,>=1.1 in /usr/local/lib/python3.10/dist-packages (from qiskit-terra>=0.20.0->qiskit-nature==0.4.0) (1.1.1)\n",
            "Requirement already satisfied: symengine>=0.9 in /usr/local/lib/python3.10/dist-packages (from qiskit-terra>=0.20.0->qiskit-nature==0.4.0) (0.13.0)\n",
            "Requirement already satisfied: rustworkx==0.15.1 in /usr/local/lib/python3.10/dist-packages (from retworkx>=0.10.1->qiskit-nature==0.4.0) (0.15.1)\n",
            "Requirement already satisfied: joblib>=1.2.0 in /usr/local/lib/python3.10/dist-packages (from scikit-learn>=0.20.0->qiskit-nature==0.4.0) (1.4.2)\n",
            "Requirement already satisfied: threadpoolctl>=3.1.0 in /usr/local/lib/python3.10/dist-packages (from scikit-learn>=0.20.0->qiskit-nature==0.4.0) (3.5.0)\n",
            "Requirement already satisfied: six>=1.5 in /usr/local/lib/python3.10/dist-packages (from python-dateutil>=2.8.0->qiskit-terra>=0.20.0->qiskit-nature==0.4.0) (1.16.0)\n",
            "Requirement already satisfied: pbr>=2.0.0 in /usr/local/lib/python3.10/dist-packages (from stevedore>=3.0.0->qiskit-terra>=0.20.0->qiskit-nature==0.4.0) (6.1.0)\n",
            "Requirement already satisfied: mpmath<1.4,>=1.1.0 in /usr/local/lib/python3.10/dist-packages (from sympy>=1.3->qiskit-terra>=0.20.0->qiskit-nature==0.4.0) (1.3.0)\n",
            "Downloading qiskit_nature-0.4.0-py3-none-any.whl (2.0 MB)\n",
            "\u001b[2K   \u001b[90m━━━━━━━━━━━━━━━━━━━━━━━━━━━━━━━━━━━━━━━━\u001b[0m \u001b[32m2.0/2.0 MB\u001b[0m \u001b[31m18.0 MB/s\u001b[0m eta \u001b[36m0:00:00\u001b[0m\n",
            "\u001b[?25hInstalling collected packages: qiskit-nature\n",
            "Successfully installed qiskit-nature-0.4.0\n"
          ]
        }
      ]
    },
    {
      "cell_type": "markdown",
      "id": "4d2ea6f4",
      "metadata": {
        "id": "4d2ea6f4"
      },
      "source": [
        "# Protein Folding"
      ]
    },
    {
      "cell_type": "markdown",
      "id": "aa2fe29c",
      "metadata": {
        "id": "aa2fe29c"
      },
      "source": [
        "### Introduction"
      ]
    },
    {
      "cell_type": "markdown",
      "id": "58f24401",
      "metadata": {
        "id": "58f24401"
      },
      "source": [
        "Le but de ce travail est de déterminer la conformation énergétique minimale d'une protéine. A partir d'une configuration aléatoire, la structure de la protéine est optimisée pour réduire l'énergie. Ceci peut être réalisé en codant le problème de repliement des protéines dans un opérateur qubit et en garantissant que toutes les contraintes physiques sont satisfaites."
      ]
    },
    {
      "cell_type": "markdown",
      "id": "76928cec",
      "metadata": {
        "id": "76928cec"
      },
      "source": [
        "Pour le problème d'encodage, nous utilisons :\n",
        "\n",
        "Qubits de configuration : qubits utilisés pour décrire les configurations et la position relative des différentes billes\n",
        "\n",
        "Qubits d'interaction : qubits qui codent les interactions entre les différents acides aminés\n",
        "\n",
        "Pour notre cas, nous utilisons un réseau tétraédrique (réseau en forme de losange) où nous codons le mouvement à travers les qubits de configuration."
      ]
    },
    {
      "cell_type": "markdown",
      "id": "50dc1324",
      "metadata": {
        "id": "50dc1324"
      },
      "source": [
        "L'hamiltonien du système pour un ensemble de qubits $\\mathbf{q}=\\{\\mathbf{q}_{cf}, \\mathbf{q}_{in}\\}$ is\n",
        "\n",
        "$$H(\\mathbf{q}) = H_{gc}(\\mathbf{q}_{cf}) + H_{ch}(\\mathbf{q}_{cf}) + H_{in}(\\mathbf{q}_{cf}, \\mathbf{q}_{in}) $$\n",
        "\n",
        "Avec\n",
        "\n",
        "- $H_{gc}$ est le terme de contrainte géométrique (gouvernant la croissance de la séquence primaire d'acides aminés sans bifurcations)\n",
        "\n",
        "- $H_{ch}$ est la contrainte de chiralité (appliquant la bonne stéréochimie pour le système)\n",
        "\n",
        "- $H_{in}$ sont les termes d’énergie d’interaction du système. Dans notre cas, nous considérons uniquement les interactions entre voisins les plus proches."
      ]
    },
    {
      "cell_type": "markdown",
      "id": "0d7f4dbb",
      "metadata": {
        "id": "0d7f4dbb"
      },
      "source": [
        "Nous avonq basés sur cette source [2] pour le modèle et l'encodage du problème ."
      ]
    },
    {
      "cell_type": "code",
      "execution_count": null,
      "id": "4a022975",
      "metadata": {
        "id": "4a022975"
      },
      "outputs": [],
      "source": [
        "from qiskit_nature.problems.sampling.protein_folding.interactions.random_interaction import (\n",
        "    RandomInteraction,\n",
        ")\n",
        "from qiskit_nature.problems.sampling.protein_folding.interactions.miyazawa_jernigan_interaction import (\n",
        "    MiyazawaJerniganInteraction,\n",
        ")\n",
        "from qiskit_nature.problems.sampling.protein_folding.peptide.peptide import Peptide\n",
        "from qiskit_nature.problems.sampling.protein_folding.protein_folding_problem import (\n",
        "    ProteinFoldingProblem,\n",
        ")\n",
        "\n",
        "from qiskit_nature.problems.sampling.protein_folding.penalty_parameters import PenaltyParameters\n",
        "\n",
        "from qiskit.utils import algorithm_globals, QuantumInstance\n",
        "\n",
        "algorithm_globals.random_seed = 23"
      ]
    },
    {
      "cell_type": "markdown",
      "id": "51e540f5",
      "metadata": {
        "id": "51e540f5"
      },
      "source": [
        "### Protein Main Chain"
      ]
    },
    {
      "cell_type": "markdown",
      "id": "15a69286",
      "metadata": {
        "id": "15a69286"
      },
      "source": [
        "\n",
        "\n",
        "\n",
        "Pour ce cas particulier, nous démontrons la génération de l'opérateur qubit dans un neuropeptide dont la chaîne principale est constituée de 7 acides aminés[2]."
      ]
    },
    {
      "cell_type": "code",
      "execution_count": null,
      "id": "b78d077a",
      "metadata": {
        "id": "b78d077a"
      },
      "outputs": [],
      "source": [
        "main_chain = \"NQGAIWE\""
      ]
    },
    {
      "cell_type": "markdown",
      "id": "2b28a00e",
      "metadata": {
        "id": "2b28a00e"
      },
      "source": [
        "### Side Chains"
      ]
    },
    {
      "cell_type": "code",
      "execution_count": null,
      "id": "f0cea914",
      "metadata": {
        "id": "f0cea914"
      },
      "outputs": [],
      "source": [
        "side_chains = [\"\"] * len(main_chain)"
      ]
    },
    {
      "cell_type": "markdown",
      "id": "203e288b",
      "metadata": {
        "id": "203e288b"
      },
      "source": [
        "### Interaction between Aminoacids"
      ]
    },
    {
      "cell_type": "markdown",
      "id": "72ff748d",
      "metadata": {
        "id": "72ff748d"
      },
      "source": [
        "Pour la description des contacts inter-résidus pour les protéines, nous utilisons des potentiels (statistiques) basés sur la connaissance dérivés par approximation quasi-chimique. Les potentiels utilisés ici sont introduits par Miyazawa, S. et Jernigan, R. L. in [5].\n",
        "\n",
        "Au-delà de ce modèle, nous autorisons également des cartes de contacts aléatoires (interactions) qui fournissent une carte d'interaction aléatoire."
      ]
    },
    {
      "cell_type": "code",
      "execution_count": null,
      "id": "cca5df13",
      "metadata": {
        "id": "cca5df13"
      },
      "outputs": [],
      "source": [
        "random_interaction = RandomInteraction()\n",
        "mj_interaction = MiyazawaJerniganInteraction()"
      ]
    },
    {
      "cell_type": "markdown",
      "id": "bb5c3ec8",
      "metadata": {
        "id": "bb5c3ec8"
      },
      "source": [
        "### Physical Constraints"
      ]
    },
    {
      "cell_type": "markdown",
      "id": "5adb4c73",
      "metadata": {
        "id": "5adb4c73"
      },
      "source": [
        "Pour garantir que toutes les contraintes physiques sont respectées, nous introduisons des fonctions de pénalité. Les différents termes de pénalité utilisés sont :\n",
        "\n",
        "- Pénalité de Chiralité (penalty_chiral): Assurer la bonne chiralité des acides aminés.\n",
        "\n",
        "- Pénalité de Retour (penalty_back): Empêcher la chaîne de se replier sur elle-même en choisissant deux fois de suite le même axe\n",
        "\n",
        "- Pénalité de Chevauchement Local (penalty_1): Empêcher le chevauchement des perles (acides aminés) au niveau des contacts de voisins les plus proches."
      ]
    },
    {
      "cell_type": "code",
      "execution_count": null,
      "id": "d96678c3",
      "metadata": {
        "id": "d96678c3"
      },
      "outputs": [],
      "source": [
        "penalty_back = 10\n",
        "penalty_chiral = 10\n",
        "penalty_1 = 10\n",
        "\n",
        "penalty_terms = PenaltyParameters(penalty_chiral, penalty_back, penalty_1)"
      ]
    },
    {
      "cell_type": "markdown",
      "id": "29807064",
      "metadata": {
        "id": "29807064"
      },
      "source": [
        "### Peptide Definition\n"
      ]
    },
    {
      "cell_type": "markdown",
      "id": "3eafb4dd",
      "metadata": {
        "id": "3eafb4dd"
      },
      "source": [
        "Sur la base de la chaîne principale et des éventuelles chaînes latérales, nous définissons l'objet peptidique qui comprend toutes les informations structurelles du système modélisé."
      ]
    },
    {
      "cell_type": "code",
      "execution_count": null,
      "id": "94b24aec",
      "metadata": {
        "id": "94b24aec"
      },
      "outputs": [],
      "source": [
        "peptide = Peptide(main_chain, side_chains)"
      ]
    },
    {
      "cell_type": "markdown",
      "id": "48deb63f",
      "metadata": {
        "id": "48deb63f"
      },
      "source": [
        "### Protein Folding Problem"
      ]
    },
    {
      "cell_type": "markdown",
      "id": "729f35c0",
      "metadata": {
        "id": "729f35c0"
      },
      "source": [
        "on se basant sur le peptide défini, les interactions (carte de contact) et des termes de pénalité que nous avons définis pour notre modèle, nous définissons le problème de repliement des protéines qui renvoie les opérateurs qubit comme output."
      ]
    },
    {
      "cell_type": "code",
      "execution_count": null,
      "id": "8d0408ed",
      "metadata": {
        "id": "8d0408ed"
      },
      "outputs": [],
      "source": [
        "protein_folding_problem = ProteinFoldingProblem(peptide, mj_interaction, penalty_terms)\n",
        "qubit_op = protein_folding_problem.qubit_op()"
      ]
    },
    {
      "cell_type": "code",
      "execution_count": null,
      "id": "29860ed3",
      "metadata": {
        "scrolled": true,
        "colab": {
          "base_uri": "https://localhost:8080/"
        },
        "id": "29860ed3",
        "outputId": "8b356d01-f361-45fb-c9be-ed261c061623"
      },
      "outputs": [
        {
          "output_type": "stream",
          "name": "stdout",
          "text": [
            "1614.0905 * IIIIIIIII\n",
            "+ 487.5 * IIIIIIZII\n",
            "- 192.5 * IIIIIIIZZ\n",
            "+ 192.5 * IIIIIIZZZ\n",
            "- 195.0 * IIIIZIZII\n",
            "- 195.0 * IIIIIZIZI\n",
            "- 195.0 * IIIIZZZZI\n",
            "- 95.0 * IIZIZIIII\n",
            "- 95.0 * IIIZIZIII\n",
            "- 95.0 * IIZZZZIII\n",
            "+ 295.0 * IIIIIIZZI\n",
            "- 497.5 * IIIIZIIII\n",
            "- 300.0 * IIIIZZIII\n",
            "+ 195.0 * IIIIIIIIZ\n",
            "+ 197.5 * IIIIIZIIZ\n",
            "- 197.5 * IIIIZZIIZ\n",
            "- 904.4535 * IZIIIIIII\n",
            "- 295.0 * IZIIIIZII\n",
            "- 197.5 * IZIIIIZZI\n",
            "+ 302.5 * IZIIZIIII\n",
            "+ 202.5 * IZIIZZIII\n",
            "+ 100.0 * IZIIZIZII\n",
            "+ 100.0 * IZIIIZIZI\n",
            "+ 100.0 * IZIIZZZZI\n",
            "- 200.0 * IZIIIIIIZ\n",
            "+ 97.5 * IZIIIIIZZ\n",
            "- 97.5 * IZIIIIZZZ\n",
            "- 100.0 * IZIIIZIIZ\n",
            "+ 100.0 * IZIIZZIIZ\n",
            "+ 100.0 * IIIIIIIZI\n",
            "- 100.0 * IIIIIZIII\n",
            "+ 2.5 * IZIIIIIZI\n",
            "- 2.5 * IZIIIZIII\n",
            "+ 192.5 * IIZIIIIII\n",
            "+ 95.0 * IIZZIIIII\n",
            "+ 97.5 * IIZIIIZII\n",
            "+ 97.5 * IIIZIIIZI\n",
            "+ 97.5 * IIZZIIZZI\n",
            "- 97.5 * IIIZIIIIZ\n",
            "+ 97.5 * IIZZIIIIZ\n",
            "+ 7.5 * IZZIIIIII\n",
            "+ 5.0 * IZZZIIIII\n",
            "+ 2.5 * IZZIIIZII\n",
            "+ 2.5 * IZIZIIIZI\n",
            "+ 2.5 * IZZZIIZZI\n",
            "- 2.5 * IZZIZIIII\n",
            "- 2.5 * IZIZIZIII\n",
            "- 2.5 * IZZZZZIII\n",
            "- 2.5 * IZIZIIIIZ\n",
            "+ 2.5 * IZZZIIIIZ\n",
            "+ 105.0 * IIIZIIIII\n",
            "- 702.137 * ZIIIIIIII\n",
            "- 195.0 * ZIIIIIZII\n",
            "- 102.5 * ZIIIIIIZI\n",
            "- 97.5 * ZIIIIIZZI\n",
            "+ 195.0 * ZIIIZIIII\n",
            "+ 102.5 * ZIIIIZIII\n",
            "+ 97.5 * ZIIIZZIII\n",
            "- 200.0 * ZIZIIIIII\n",
            "- 105.0 * ZIIZIIIII\n",
            "- 100.0 * ZIZZIIIII\n",
            "+ 97.5 * ZIIIZIZII\n",
            "- 100.0 * ZIZIIIZII\n",
            "+ 97.5 * ZIIIIZIZI\n",
            "- 100.0 * ZIIZIIIZI\n",
            "+ 97.5 * ZIIIZZZZI\n",
            "- 100.0 * ZIZZIIZZI\n",
            "+ 100.0 * ZIZIZIIII\n",
            "+ 100.0 * ZIIZIZIII\n",
            "+ 100.0 * ZIZZZZIII\n",
            "+ 97.5 * ZIIIIIIZZ\n",
            "- 97.5 * ZIIIIIZZZ\n",
            "- 97.5 * ZIIIIZIIZ\n",
            "+ 97.5 * ZIIIZZIIZ\n",
            "+ 100.0 * ZIIZIIIIZ\n",
            "- 100.0 * ZIZZIIIIZ\n",
            "+ 5.0 * ZIIIIIIIZ\n"
          ]
        }
      ],
      "source": [
        "print(qubit_op)"
      ]
    },
    {
      "cell_type": "markdown",
      "id": "441ccc74",
      "metadata": {
        "id": "441ccc74"
      },
      "source": [
        "**Using VQE with CVaR expectation value for the solution of the problem**\n",
        "\n",
        "\n",
        "\n"
      ]
    },
    {
      "cell_type": "markdown",
      "id": "e99e05de",
      "metadata": {
        "id": "e99e05de"
      },
      "source": [
        "Le problème que nous abordons a maintenant implémenté toutes les contraintes physiques et possède un hamiltonien diagonal. Pour le cas particulier nous ciblons la seule chaîne de bits qui nous donne le minimum d'énergie (correspondant à la structure repliée de la protéine). Nous suivons la même approche que dans la Réf. [2] mais ici nous utilisons COBYLA pour la partie optimisation classique."
      ]
    },
    {
      "cell_type": "code",
      "execution_count": null,
      "id": "5eb95499",
      "metadata": {
        "scrolled": true,
        "colab": {
          "base_uri": "https://localhost:8080/"
        },
        "id": "5eb95499",
        "outputId": "ee9b387b-ef39-49bc-d86e-169fafee187a"
      },
      "outputs": [
        {
          "output_type": "stream",
          "name": "stdout",
          "text": [
            "{   'aux_operator_eigenvalues': None,\n",
            "    'cost_function_evals': 100,\n",
            "    'eigenstate': {   '000000100': 0.02209708691207961,\n",
            "                      '000000101': 0.0427908248050911,\n",
            "                      '000000110': 0.038273277230987154,\n",
            "                      '000001110': 0.011048543456039806,\n",
            "                      '000010101': 0.011048543456039806,\n",
            "                      '000011010': 0.011048543456039806,\n",
            "                      '000100101': 0.019136638615493577,\n",
            "                      '000100110': 0.02209708691207961,\n",
            "                      '000101001': 0.011048543456039806,\n",
            "                      '000101010': 0.011048543456039806,\n",
            "                      '000111001': 0.011048543456039806,\n",
            "                      '000111100': 0.011048543456039806,\n",
            "                      '000111101': 0.011048543456039806,\n",
            "                      '000111110': 0.011048543456039806,\n",
            "                      '001000000': 0.011048543456039806,\n",
            "                      '001000001': 0.011048543456039806,\n",
            "                      '001000100': 0.0625,\n",
            "                      '001000101': 0.13486466016900053,\n",
            "                      '001000110': 0.14823176532039278,\n",
            "                      '001001010': 0.015625,\n",
            "                      '001001100': 0.011048543456039806,\n",
            "                      '001001101': 0.015625,\n",
            "                      '001001110': 0.027063293868263706,\n",
            "                      '001010000': 0.011048543456039806,\n",
            "                      '001010001': 0.015625,\n",
            "                      '001011001': 0.04419417382415922,\n",
            "                      '001011010': 0.05412658773652741,\n",
            "                      '001011011': 0.011048543456039806,\n",
            "                      '001011100': 0.02209708691207961,\n",
            "                      '001011101': 0.05524271728019903,\n",
            "                      '001011110': 0.06346905003621844,\n",
            "                      '001101000': 0.015625,\n",
            "                      '001101001': 0.011048543456039806,\n",
            "                      '001101010': 0.024705294220065465,\n",
            "                      '001101101': 0.011048543456039806,\n",
            "                      '001101110': 0.02209708691207961,\n",
            "                      '001110001': 0.015625,\n",
            "                      '001110010': 0.027063293868263706,\n",
            "                      '001110100': 0.019136638615493577,\n",
            "                      '001110101': 0.0427908248050911,\n",
            "                      '001110110': 0.04555431167847891,\n",
            "                      '001111000': 0.03314563036811941,\n",
            "                      '001111001': 0.05412658773652741,\n",
            "                      '001111010': 0.09695057535930357,\n",
            "                      '001111100': 0.04941058844013093,\n",
            "                      '001111101': 0.07574499777213015,\n",
            "                      '001111110': 0.09757809372497497,\n",
            "                      '010000001': 0.015625,\n",
            "                      '010000100': 0.03983608994994363,\n",
            "                      '010000101': 0.09375,\n",
            "                      '010000110': 0.11692679333668567,\n",
            "                      '010001010': 0.011048543456039806,\n",
            "                      '010001100': 0.011048543456039806,\n",
            "                      '010001101': 0.029231698334171417,\n",
            "                      '010001110': 0.02209708691207961,\n",
            "                      '010010001': 0.015625,\n",
            "                      '010010100': 0.015625,\n",
            "                      '010010101': 0.015625,\n",
            "                      '010011001': 0.011048543456039806,\n",
            "                      '010011010': 0.015625,\n",
            "                      '010011101': 0.011048543456039806,\n",
            "                      '010011110': 0.015625,\n",
            "                      '010100100': 0.015625,\n",
            "                      '010100101': 0.03983608994994363,\n",
            "                      '010100110': 0.05740991584648074,\n",
            "                      '010101001': 0.011048543456039806,\n",
            "                      '010110010': 0.019136638615493577,\n",
            "                      '010111000': 0.011048543456039806,\n",
            "                      '010111001': 0.015625,\n",
            "                      '010111010': 0.024705294220065465,\n",
            "                      '010111100': 0.019136638615493577,\n",
            "                      '010111101': 0.038273277230987154,\n",
            "                      '010111110': 0.038273277230987154,\n",
            "                      '011000000': 0.015625,\n",
            "                      '011000001': 0.0427908248050911,\n",
            "                      '011000010': 0.011048543456039806,\n",
            "                      '011000100': 0.16124818312929917,\n",
            "                      '011000101': 0.3204077602251543,\n",
            "                      '011000110': 0.3603925810834624,\n",
            "                      '011001000': 0.02209708691207961,\n",
            "                      '011001001': 0.05298695299316616,\n",
            "                      '011001010': 0.06536406457297465,\n",
            "                      '011001100': 0.024705294220065465,\n",
            "                      '011001101': 0.036643873123620545,\n",
            "                      '011001110': 0.046875,\n",
            "                      '011010000': 0.02209708691207961,\n",
            "                      '011010001': 0.03314563036811941,\n",
            "                      '011010010': 0.04419417382415922,\n",
            "                      '011011000': 0.034938562148434216,\n",
            "                      '011011001': 0.071602745233685,\n",
            "                      '011011010': 0.12741801898671945,\n",
            "                      '011011100': 0.07493486755176124,\n",
            "                      '011011101': 0.12741801898671945,\n",
            "                      '011011110': 0.17364149039760055,\n",
            "                      '011100001': 0.015625,\n",
            "                      '011100010': 0.029231698334171417,\n",
            "                      '011101000': 0.011048543456039806,\n",
            "                      '011101001': 0.02209708691207961,\n",
            "                      '011101010': 0.04419417382415922,\n",
            "                      '011101100': 0.024705294220065465,\n",
            "                      '011101101': 0.05063078670631141,\n",
            "                      '011101110': 0.0427908248050911,\n",
            "                      '011110000': 0.015625,\n",
            "                      '011110001': 0.04133986423538423,\n",
            "                      '011110010': 0.06987712429686843,\n",
            "                      '011110100': 0.03983608994994363,\n",
            "                      '011110101': 0.09882117688026186,\n",
            "                      '011110110': 0.11692679333668567,\n",
            "                      '011111000': 0.07411588266019639,\n",
            "                      '011111001': 0.1494619255446015,\n",
            "                      '011111010': 0.2283068624406634,\n",
            "                      '011111100': 0.09043622580304864,\n",
            "                      '011111101': 0.18944305707784595,\n",
            "                      '011111110': 0.22453293536249866,\n",
            "                      '100000100': 0.03125,\n",
            "                      '100000101': 0.06629126073623882,\n",
            "                      '100000110': 0.06810779599282303,\n",
            "                      '100001100': 0.011048543456039806,\n",
            "                      '100001110': 0.015625,\n",
            "                      '100010100': 0.011048543456039806,\n",
            "                      '100010101': 0.015625,\n",
            "                      '100010110': 0.011048543456039806,\n",
            "                      '100011101': 0.011048543456039806,\n",
            "                      '100011110': 0.019136638615493577,\n",
            "                      '100100101': 0.03125,\n",
            "                      '100100110': 0.036643873123620545,\n",
            "                      '100111010': 0.024705294220065465,\n",
            "                      '100111101': 0.015625,\n",
            "                      '100111110': 0.029231698334171417,\n",
            "                      '101000000': 0.019136638615493577,\n",
            "                      '101000001': 0.027063293868263706,\n",
            "                      '101000100': 0.11428702217443588,\n",
            "                      '101000101': 0.22207297505549836,\n",
            "                      '101000110': 0.261689597256941,\n",
            "                      '101001000': 0.011048543456039806,\n",
            "                      '101001001': 0.036643873123620545,\n",
            "                      '101001010': 0.04555431167847891,\n",
            "                      '101001100': 0.015625,\n",
            "                      '101001101': 0.03314563036811941,\n",
            "                      '101001110': 0.034938562148434216,\n",
            "                      '101010000': 0.015625,\n",
            "                      '101010001': 0.02209708691207961,\n",
            "                      '101010010': 0.036643873123620545,\n",
            "                      '101011000': 0.02209708691207961,\n",
            "                      '101011001': 0.05633673867912483,\n",
            "                      '101011010': 0.10126157341262282,\n",
            "                      '101011100': 0.04419417382415922,\n",
            "                      '101011101': 0.08838834764831845,\n",
            "                      '101011110': 0.109375,\n",
            "                      '101100001': 0.011048543456039806,\n",
            "                      '101100010': 0.015625,\n",
            "                      '101101001': 0.019136638615493577,\n",
            "                      '101101010': 0.029231698334171417,\n",
            "                      '101101100': 0.019136638615493577,\n",
            "                      '101101101': 0.036643873123620545,\n",
            "                      '101101110': 0.03125,\n",
            "                      '101110000': 0.015625,\n",
            "                      '101110001': 0.019136638615493577,\n",
            "                      '101110010': 0.05412658773652741,\n",
            "                      '101110100': 0.03314563036811941,\n",
            "                      '101110101': 0.06051536478449089,\n",
            "                      '101110110': 0.07733980419227864,\n",
            "                      '101111000': 0.04419417382415922,\n",
            "                      '101111001': 0.10126157341262282,\n",
            "                      '101111010': 0.15741751312195224,\n",
            "                      '101111011': 0.015625,\n",
            "                      '101111100': 0.05740991584648074,\n",
            "                      '101111101': 0.13119418456052082,\n",
            "                      '101111110': 0.16572815184059708},\n",
            "    'eigenvalue': (-1.0930000000000746+0j),\n",
            "    'optimal_parameters': {   ParameterVectorElement(θ[11]): 2.5814792563079716,\n",
            "                              ParameterVectorElement(θ[12]): 2.170562257852986,\n",
            "                              ParameterVectorElement(θ[15]): 3.3601615394270254,\n",
            "                              ParameterVectorElement(θ[14]): 0.903250402705529,\n",
            "                              ParameterVectorElement(θ[10]): 1.314872598430528,\n",
            "                              ParameterVectorElement(θ[16]): -0.9466970721154204,\n",
            "                              ParameterVectorElement(θ[13]): 1.9820727124671966,\n",
            "                              ParameterVectorElement(θ[8]): 2.642430859660343,\n",
            "                              ParameterVectorElement(θ[9]): -0.8658124861938726,\n",
            "                              ParameterVectorElement(θ[0]): 1.14071791692097,\n",
            "                              ParameterVectorElement(θ[4]): 2.0626246664420256,\n",
            "                              ParameterVectorElement(θ[17]): -1.7844822474402136,\n",
            "                              ParameterVectorElement(θ[7]): -1.8669986739968039,\n",
            "                              ParameterVectorElement(θ[3]): 1.361888630651272,\n",
            "                              ParameterVectorElement(θ[5]): 3.5900558061085284,\n",
            "                              ParameterVectorElement(θ[6]): 3.1335744224115905,\n",
            "                              ParameterVectorElement(θ[2]): -2.352830992038356,\n",
            "                              ParameterVectorElement(θ[1]): 3.2817396396679914},\n",
            "    'optimal_point': array([ 1.14071792,  3.28173964, -2.35283099,  1.36188863,  2.06262467,\n",
            "        3.59005581,  3.13357442, -1.86699867,  2.64243086, -0.86581249,\n",
            "        1.3148726 ,  2.58147926,  2.17056226,  1.98207271,  0.9032504 ,\n",
            "        3.36016154, -0.94669707, -1.78448225]),\n",
            "    'optimal_value': -1.0930000000000746,\n",
            "    'optimizer_evals': None,\n",
            "    'optimizer_time': 45.69291853904724}\n"
          ]
        }
      ],
      "source": [
        "from qiskit.circuit.library import RealAmplitudes\n",
        "from qiskit.algorithms.optimizers import COBYLA\n",
        "from qiskit.algorithms import NumPyMinimumEigensolver, VQE\n",
        "from qiskit.opflow import PauliExpectation, CVaRExpectation\n",
        "from qiskit import execute, Aer\n",
        "\n",
        "# set classical optimizer\n",
        "optimizer = COBYLA(maxiter=100)\n",
        "\n",
        "# set variational ansatz\n",
        "ansatz = RealAmplitudes(reps=1)\n",
        "\n",
        "# set the backend\n",
        "backend_name = \"aer_simulator\"\n",
        "backend = QuantumInstance(\n",
        "    Aer.get_backend(backend_name),\n",
        "    shots=8192,\n",
        "    seed_transpiler=algorithm_globals.random_seed,\n",
        "    seed_simulator=algorithm_globals.random_seed,\n",
        ")\n",
        "\n",
        "counts = []\n",
        "values = []\n",
        "\n",
        "def store_intermediate_result(eval_count, parameters, mean, std):\n",
        "    counts.append(eval_count)\n",
        "    values.append(mean)\n",
        "\n",
        "# initialize CVaR_alpha objective with alpha = 0.1\n",
        "cvar_exp = CVaRExpectation(0.1, PauliExpectation())\n",
        "\n",
        "# initialize VQE using CVaR\n",
        "vqe = VQE(\n",
        "    expectation=cvar_exp,\n",
        "    optimizer=optimizer,\n",
        "    ansatz=ansatz,\n",
        "    quantum_instance=backend,\n",
        "    callback=store_intermediate_result,\n",
        ")\n",
        "\n",
        "raw_result = vqe.compute_minimum_eigenvalue(qubit_op)\n",
        "print(raw_result)"
      ]
    },
    {
      "cell_type": "code",
      "execution_count": null,
      "id": "7d51e6b4",
      "metadata": {
        "colab": {
          "base_uri": "https://localhost:8080/",
          "height": 449
        },
        "id": "7d51e6b4",
        "outputId": "e12e66cd-0602-42e2-8e62-6afd02129760"
      },
      "outputs": [
        {
          "output_type": "display_data",
          "data": {
            "text/plain": [
              "<Figure size 640x480 with 1 Axes>"
            ],
            "image/png": "[encoded data removed]"
          },
          "metadata": {}
        }
      ],
      "source": [
        "import matplotlib.pyplot as plt\n",
        "\n",
        "fig = plt.figure()\n",
        "\n",
        "plt.plot(counts, values)\n",
        "plt.ylabel(\"Conformation Energy\")\n",
        "plt.xlabel(\"VQE Iterations\")\n",
        "\n",
        "# fig.add_axes([0.44, 0.51, 0.44, 0.32])\n",
        "\n",
        "# plt.plot(counts[40:], values[40:])\n",
        "# plt.ylabel(\"Conformation Energy\")\n",
        "# plt.xlabel(\"VQE Iterations\")\n",
        "plt.show()"
      ]
    },
    {
      "cell_type": "markdown",
      "id": "002b5c74",
      "metadata": {
        "id": "002b5c74"
      },
      "source": [
        "**Visualisation**"
      ]
    },
    {
      "cell_type": "markdown",
      "id": "2e2b6b22",
      "metadata": {
        "id": "2e2b6b22"
      },
      "source": [
        "Afin de réduire les coûts de calcul, nous avons réduit l'opérateur qubit du problème au nombre minimum de qubits nécessaire pour représenter la forme de la protéine.\n",
        "* The shape of the protein has been encoded by a sequence of turns , $\\{0,1,2,3\\}$. Each turn represents a different direction in the lattice.\n",
        "* For a main bead of $N_{aminoacids}$ in a lattice, we need $N_{aminoacids}-1$ turns in order to represent its shape.\n",
        "* Since the length of the secondary chains is always limited to $1$ we only need one turn to describe the shape of the chain.\n",
        "\n",
        "Le nombre totale de qubits dont nous avons besoin pour représenter la forme de la protéine sera $2(N_{aminoacids}-3)$ s'il y a une chaîne secondaire qui sort de la deuxième perle ou $2(N_{aminoacids}-3) - 1$, Sinon. Tous les autres qubits resteront inutilisés pendant le processus d'optimisation :"
      ]
    },
    {
      "cell_type": "code",
      "execution_count": null,
      "id": "49a65992",
      "metadata": {
        "colab": {
          "base_uri": "https://localhost:8080/"
        },
        "id": "49a65992",
        "outputId": "886fb703-1c04-4ba9-a4e2-dc0a96d9862d"
      },
      "outputs": [
        {
          "output_type": "stream",
          "name": "stdout",
          "text": [
            "The bitstring representing the shape of the protein during optimization is:  011000110\n",
            "The expanded expression is: 0______1_____________________________________________________________________________________________________________________________100011_0____\n"
          ]
        }
      ],
      "source": [
        "result = protein_folding_problem.interpret(raw_result=raw_result)\n",
        "print(\n",
        "    \"The bitstring representing the shape of the protein during optimization is: \",\n",
        "    result.turn_sequence,\n",
        ")\n",
        "print(\"The expanded expression is:\", result.get_result_binary_vector())"
      ]
    },
    {
      "cell_type": "markdown",
      "id": "19578a0c",
      "metadata": {
        "id": "19578a0c"
      },
      "source": [
        "Maintenant que nous savons quels qubits codent quelles informations, nous pouvons décoder la chaîne de bits en tours explicites qui forment la forme de la protéine."
      ]
    },
    {
      "cell_type": "code",
      "execution_count": null,
      "id": "f377810d",
      "metadata": {
        "colab": {
          "base_uri": "https://localhost:8080/"
        },
        "id": "f377810d",
        "outputId": "72ada6a8-ea08-4a16-9362-246988e96f70"
      },
      "outputs": [
        {
          "output_type": "stream",
          "name": "stdout",
          "text": [
            "The folded protein's main sequence of turns is: [1, 0, 1, 3, 0, 1]\n",
            "and the side turn sequences are: [None, None, None, None, None, None, None]\n"
          ]
        }
      ],
      "source": [
        "print(f\"The folded protein's main sequence of turns is: {result.protein_shape_decoder.main_turns}\")\n",
        "print(f\"and the side turn sequences are: {result.protein_shape_decoder.side_turns}\")"
      ]
    },
    {
      "cell_type": "markdown",
      "id": "de27cfcd",
      "metadata": {
        "id": "de27cfcd"
      },
      "source": [
        "A partir de cette séquence de tours on peut obtenir les coordonnées cartésiennes de chacun des acides aminés de la protéine."
      ]
    },
    {
      "cell_type": "code",
      "execution_count": null,
      "id": "39402e34",
      "metadata": {
        "colab": {
          "base_uri": "https://localhost:8080/"
        },
        "id": "39402e34",
        "outputId": "1f6f7462-0edc-4e77-fb24-21dcc9590ad9"
      },
      "outputs": [
        {
          "output_type": "stream",
          "name": "stdout",
          "text": [
            "[['N' '0.0' '0.0' '0.0']\n",
            " ['Q' '0.5773502691896258' '0.5773502691896258' '-0.5773502691896258']\n",
            " ['G' '1.1547005383792517' '0.0' '-1.1547005383792517']\n",
            " ['A' '1.7320508075688776' '0.5773502691896258' '-1.7320508075688776']\n",
            " ['I' '1.154700538379252' '1.1547005383792517' '-2.3094010767585034']\n",
            " ['W' '0.5773502691896261' '1.7320508075688776' '-1.7320508075688776']\n",
            " ['E' '2.220446049250313e-16' '1.154700538379252' '-1.154700538379252']]\n"
          ]
        }
      ],
      "source": [
        "print(result.protein_shape_file_gen.get_xyz_data())"
      ]
    },
    {
      "cell_type": "markdown",
      "id": "d54c6272",
      "metadata": {
        "id": "d54c6272"
      },
      "source": [
        "Finalement, nous faisons la visualisation de la strucure du protèine résultant."
      ]
    },
    {
      "cell_type": "code",
      "execution_count": null,
      "id": "a40f8c41",
      "metadata": {
        "colab": {
          "base_uri": "https://localhost:8080/",
          "height": 457
        },
        "id": "a40f8c41",
        "outputId": "43f1fc60-39a5-4cfb-f043-c858260922c0"
      },
      "outputs": [
        {
          "output_type": "display_data",
          "data": {
            "text/plain": [
              "<Figure size 640x480 with 1 Axes>"
            ],
            "image/png": "[encoded data removed]"
          },
          "metadata": {}
        }
      ],
      "source": [
        "fig = result.get_figure(title=\"Protein Structure\", ticks=False, grid=True)\n",
        "fig.get_axes()[0].view_init(10, 70)"
      ]
    },
    {
      "cell_type": "code",
      "source": [
        "!pip install plotly"
      ],
      "metadata": {
        "colab": {
          "base_uri": "https://localhost:8080/"
        },
        "id": "pzbc_Rne0xep",
        "outputId": "45ac265d-956b-427f-ca4e-0803f8cc0f47"
      },
      "id": "pzbc_Rne0xep",
      "execution_count": null,
      "outputs": [
        {
          "output_type": "stream",
          "name": "stdout",
          "text": [
            "Requirement already satisfied: plotly in /usr/local/lib/python3.10/dist-packages (5.24.1)\n",
            "Requirement already satisfied: tenacity>=6.2.0 in /usr/local/lib/python3.10/dist-packages (from plotly) (9.0.0)\n",
            "Requirement already satisfied: packaging in /usr/local/lib/python3.10/dist-packages (from plotly) (24.1)\n"
          ]
        }
      ]
    },
    {
      "cell_type": "code",
      "source": [
        "import plotly.graph_objects as go\n",
        "import numpy as np\n",
        "\n",
        "# Vos données avec acides aminés et coordonnées XYZ\n",
        "data = result.protein_shape_file_gen.get_xyz_data()\n",
        "\n",
        "# Extraire les informations des acides aminés et des coordonnées\n",
        "amino_acids = data[:, 0]\n",
        "coordinates = data[:, 1:].astype(float)\n",
        "\n",
        "# Créer la figure plotly\n",
        "fig = go.Figure()\n",
        "\n",
        "# Ajouter les points des acides aminés\n",
        "fig.add_trace(go.Scatter3d(\n",
        "    x=coordinates[:, 0],\n",
        "    y=coordinates[:, 1],\n",
        "    z=coordinates[:, 2],\n",
        "    mode='markers+text',\n",
        "    marker=dict(size=5),\n",
        "    text=[f'{amino_acids[i]}' for i in range(len(amino_acids))],\n",
        "    textposition='top center'\n",
        "))\n",
        "\n",
        "# Ajouter les lignes reliant les points pour visualiser la structure\n",
        "fig.add_trace(go.Scatter3d(\n",
        "    x=coordinates[:, 0],\n",
        "    y=coordinates[:, 1],\n",
        "    z=coordinates[:, 2],\n",
        "    mode='lines',\n",
        "    line=dict(width=2)\n",
        "))\n",
        "\n",
        "# Ajouter des étiquettes d'axes\n",
        "fig.update_layout(\n",
        "    scene=dict(\n",
        "        xaxis_title='X',\n",
        "        yaxis_title='Y',\n",
        "        zaxis_title='Z'\n",
        "    ),\n",
        "    title=\"Visualisation 3D de la Protéine\"\n",
        ")\n",
        "\n",
        "# Afficher la figure interactive\n",
        "fig.show()\n"
      ],
      "metadata": {
        "colab": {
          "base_uri": "https://localhost:8080/",
          "height": 542
        },
        "id": "OyrUZc_8up4G",
        "outputId": "fe659943-bf3a-42fa-ac5b-93a00eda6f44"
      },
      "id": "OyrUZc_8up4G",
      "execution_count": null,
      "outputs": [
        {
          "output_type": "display_data",
          "data": {
            "text/html": [
              "<html>\n",
              "<head><meta charset=\"utf-8\" /></head>\n",
              "<body>\n",
              "    <div>            <script src=\"https://cdnjs.cloudflare.com/ajax/libs/mathjax/2.7.5/MathJax.js?config=TeX-AMS-MML_SVG\"></script><script type=\"text/javascript\">if (window.MathJax && window.MathJax.Hub && window.MathJax.Hub.Config) {window.MathJax.Hub.Config({SVG: {font: \"STIX-Web\"}});}</script>                <script type=\"text/javascript\">window.PlotlyConfig = {MathJaxConfig: 'local'};</script>\n",
              "        <script charset=\"utf-8\" src=\"https://cdn.plot.ly/plotly-2.35.2.min.js\"></script>                <div id=\"8054d0ac-1af0-47ed-bb08-7a52056a5354\" class=\"plotly-graph-div\" style=\"height:525px; width:100%;\"></div>            <script type=\"text/javascript\">                                    window.PLOTLYENV=window.PLOTLYENV || {};                                    if (document.getElementById(\"8054d0ac-1af0-47ed-bb08-7a52056a5354\")) {                    Plotly.newPlot(                        \"8054d0ac-1af0-47ed-bb08-7a52056a5354\",                        [{\"marker\":{\"size\":5},\"mode\":\"markers+text\",\"text\":[\"N\",\"Q\",\"G\",\"A\",\"I\",\"W\",\"E\"],\"textposition\":\"top center\",\"x\":[0.0,0.5773502691896258,1.1547005383792517,1.7320508075688776,1.154700538379252,0.5773502691896261,2.220446049250313e-16],\"y\":[0.0,0.5773502691896258,0.0,0.5773502691896258,1.1547005383792517,1.7320508075688776,1.154700538379252],\"z\":[0.0,-0.5773502691896258,-1.1547005383792517,-1.7320508075688776,-2.3094010767585034,-1.7320508075688776,-1.154700538379252],\"type\":\"scatter3d\"},{\"line\":{\"width\":2},\"mode\":\"lines\",\"x\":[0.0,0.5773502691896258,1.1547005383792517,1.7320508075688776,1.154700538379252,0.5773502691896261,2.220446049250313e-16],\"y\":[0.0,0.5773502691896258,0.0,0.5773502691896258,1.1547005383792517,1.7320508075688776,1.154700538379252],\"z\":[0.0,-0.5773502691896258,-1.1547005383792517,-1.7320508075688776,-2.3094010767585034,-1.7320508075688776,-1.154700538379252],\"type\":\"scatter3d\"}],                        {\"template\":{\"data\":{\"histogram2dcontour\":[{\"type\":\"histogram2dcontour\",\"colorbar\":{\"outlinewidth\":0,\"ticks\":\"\"},\"colorscale\":[[0.0,\"#0d0887\"],[0.1111111111111111,\"#46039f\"],[0.2222222222222222,\"#7201a8\"],[0.3333333333333333,\"#9c179e\"],[0.4444444444444444,\"#bd3786\"],[0.5555555555555556,\"#d8576b\"],[0.6666666666666666,\"#ed7953\"],[0.7777777777777778,\"#fb9f3a\"],[0.8888888888888888,\"#fdca26\"],[1.0,\"#f0f921\"]]}],\"choropleth\":[{\"type\":\"choropleth\",\"colorbar\":{\"outlinewidth\":0,\"ticks\":\"\"}}],\"histogram2d\":[{\"type\":\"histogram2d\",\"colorbar\":{\"outlinewidth\":0,\"ticks\":\"\"},\"colorscale\":[[0.0,\"#0d0887\"],[0.1111111111111111,\"#46039f\"],[0.2222222222222222,\"#7201a8\"],[0.3333333333333333,\"#9c179e\"],[0.4444444444444444,\"#bd3786\"],[0.5555555555555556,\"#d8576b\"],[0.6666666666666666,\"#ed7953\"],[0.7777777777777778,\"#fb9f3a\"],[0.8888888888888888,\"#fdca26\"],[1.0,\"#f0f921\"]]}],\"heatmap\":[{\"type\":\"heatmap\",\"colorbar\":{\"outlinewidth\":0,\"ticks\":\"\"},\"colorscale\":[[0.0,\"#0d0887\"],[0.1111111111111111,\"#46039f\"],[0.2222222222222222,\"#7201a8\"],[0.3333333333333333,\"#9c179e\"],[0.4444444444444444,\"#bd3786\"],[0.5555555555555556,\"#d8576b\"],[0.6666666666666666,\"#ed7953\"],[0.7777777777777778,\"#fb9f3a\"],[0.8888888888888888,\"#fdca26\"],[1.0,\"#f0f921\"]]}],\"heatmapgl\":[{\"type\":\"heatmapgl\",\"colorbar\":{\"outlinewidth\":0,\"ticks\":\"\"},\"colorscale\":[[0.0,\"#0d0887\"],[0.1111111111111111,\"#46039f\"],[0.2222222222222222,\"#7201a8\"],[0.3333333333333333,\"#9c179e\"],[0.4444444444444444,\"#bd3786\"],[0.5555555555555556,\"#d8576b\"],[0.6666666666666666,\"#ed7953\"],[0.7777777777777778,\"#fb9f3a\"],[0.8888888888888888,\"#fdca26\"],[1.0,\"#f0f921\"]]}],\"contourcarpet\":[{\"type\":\"contourcarpet\",\"colorbar\":{\"outlinewidth\":0,\"ticks\":\"\"}}],\"contour\":[{\"type\":\"contour\",\"colorbar\":{\"outlinewidth\":0,\"ticks\":\"\"},\"colorscale\":[[0.0,\"#0d0887\"],[0.1111111111111111,\"#46039f\"],[0.2222222222222222,\"#7201a8\"],[0.3333333333333333,\"#9c179e\"],[0.4444444444444444,\"#bd3786\"],[0.5555555555555556,\"#d8576b\"],[0.6666666666666666,\"#ed7953\"],[0.7777777777777778,\"#fb9f3a\"],[0.8888888888888888,\"#fdca26\"],[1.0,\"#f0f921\"]]}],\"surface\":[{\"type\":\"surface\",\"colorbar\":{\"outlinewidth\":0,\"ticks\":\"\"},\"colorscale\":[[0.0,\"#0d0887\"],[0.1111111111111111,\"#46039f\"],[0.2222222222222222,\"#7201a8\"],[0.3333333333333333,\"#9c179e\"],[0.4444444444444444,\"#bd3786\"],[0.5555555555555556,\"#d8576b\"],[0.6666666666666666,\"#ed7953\"],[0.7777777777777778,\"#fb9f3a\"],[0.8888888888888888,\"#fdca26\"],[1.0,\"#f0f921\"]]}],\"mesh3d\":[{\"type\":\"mesh3d\",\"colorbar\":{\"outlinewidth\":0,\"ticks\":\"\"}}],\"scatter\":[{\"fillpattern\":{\"fillmode\":\"overlay\",\"size\":10,\"solidity\":0.2},\"type\":\"scatter\"}],\"parcoords\":[{\"type\":\"parcoords\",\"line\":{\"colorbar\":{\"outlinewidth\":0,\"ticks\":\"\"}}}],\"scatterpolargl\":[{\"type\":\"scatterpolargl\",\"marker\":{\"colorbar\":{\"outlinewidth\":0,\"ticks\":\"\"}}}],\"bar\":[{\"error_x\":{\"color\":\"#2a3f5f\"},\"error_y\":{\"color\":\"#2a3f5f\"},\"marker\":{\"line\":{\"color\":\"#E5ECF6\",\"width\":0.5},\"pattern\":{\"fillmode\":\"overlay\",\"size\":10,\"solidity\":0.2}},\"type\":\"bar\"}],\"scattergeo\":[{\"type\":\"scattergeo\",\"marker\":{\"colorbar\":{\"outlinewidth\":0,\"ticks\":\"\"}}}],\"scatterpolar\":[{\"type\":\"scatterpolar\",\"marker\":{\"colorbar\":{\"outlinewidth\":0,\"ticks\":\"\"}}}],\"histogram\":[{\"marker\":{\"pattern\":{\"fillmode\":\"overlay\",\"size\":10,\"solidity\":0.2}},\"type\":\"histogram\"}],\"scattergl\":[{\"type\":\"scattergl\",\"marker\":{\"colorbar\":{\"outlinewidth\":0,\"ticks\":\"\"}}}],\"scatter3d\":[{\"type\":\"scatter3d\",\"line\":{\"colorbar\":{\"outlinewidth\":0,\"ticks\":\"\"}},\"marker\":{\"colorbar\":{\"outlinewidth\":0,\"ticks\":\"\"}}}],\"scattermapbox\":[{\"type\":\"scattermapbox\",\"marker\":{\"colorbar\":{\"outlinewidth\":0,\"ticks\":\"\"}}}],\"scatterternary\":[{\"type\":\"scatterternary\",\"marker\":{\"colorbar\":{\"outlinewidth\":0,\"ticks\":\"\"}}}],\"scattercarpet\":[{\"type\":\"scattercarpet\",\"marker\":{\"colorbar\":{\"outlinewidth\":0,\"ticks\":\"\"}}}],\"carpet\":[{\"aaxis\":{\"endlinecolor\":\"#2a3f5f\",\"gridcolor\":\"white\",\"linecolor\":\"white\",\"minorgridcolor\":\"white\",\"startlinecolor\":\"#2a3f5f\"},\"baxis\":{\"endlinecolor\":\"#2a3f5f\",\"gridcolor\":\"white\",\"linecolor\":\"white\",\"minorgridcolor\":\"white\",\"startlinecolor\":\"#2a3f5f\"},\"type\":\"carpet\"}],\"table\":[{\"cells\":{\"fill\":{\"color\":\"#EBF0F8\"},\"line\":{\"color\":\"white\"}},\"header\":{\"fill\":{\"color\":\"#C8D4E3\"},\"line\":{\"color\":\"white\"}},\"type\":\"table\"}],\"barpolar\":[{\"marker\":{\"line\":{\"color\":\"#E5ECF6\",\"width\":0.5},\"pattern\":{\"fillmode\":\"overlay\",\"size\":10,\"solidity\":0.2}},\"type\":\"barpolar\"}],\"pie\":[{\"automargin\":true,\"type\":\"pie\"}]},\"layout\":{\"autotypenumbers\":\"strict\",\"colorway\":[\"#636efa\",\"#EF553B\",\"#00cc96\",\"#ab63fa\",\"#FFA15A\",\"#19d3f3\",\"#FF6692\",\"#B6E880\",\"#FF97FF\",\"#FECB52\"],\"font\":{\"color\":\"#2a3f5f\"},\"hovermode\":\"closest\",\"hoverlabel\":{\"align\":\"left\"},\"paper_bgcolor\":\"white\",\"plot_bgcolor\":\"#E5ECF6\",\"polar\":{\"bgcolor\":\"#E5ECF6\",\"angularaxis\":{\"gridcolor\":\"white\",\"linecolor\":\"white\",\"ticks\":\"\"},\"radialaxis\":{\"gridcolor\":\"white\",\"linecolor\":\"white\",\"ticks\":\"\"}},\"ternary\":{\"bgcolor\":\"#E5ECF6\",\"aaxis\":{\"gridcolor\":\"white\",\"linecolor\":\"white\",\"ticks\":\"\"},\"baxis\":{\"gridcolor\":\"white\",\"linecolor\":\"white\",\"ticks\":\"\"},\"caxis\":{\"gridcolor\":\"white\",\"linecolor\":\"white\",\"ticks\":\"\"}},\"coloraxis\":{\"colorbar\":{\"outlinewidth\":0,\"ticks\":\"\"}},\"colorscale\":{\"sequential\":[[0.0,\"#0d0887\"],[0.1111111111111111,\"#46039f\"],[0.2222222222222222,\"#7201a8\"],[0.3333333333333333,\"#9c179e\"],[0.4444444444444444,\"#bd3786\"],[0.5555555555555556,\"#d8576b\"],[0.6666666666666666,\"#ed7953\"],[0.7777777777777778,\"#fb9f3a\"],[0.8888888888888888,\"#fdca26\"],[1.0,\"#f0f921\"]],\"sequentialminus\":[[0.0,\"#0d0887\"],[0.1111111111111111,\"#46039f\"],[0.2222222222222222,\"#7201a8\"],[0.3333333333333333,\"#9c179e\"],[0.4444444444444444,\"#bd3786\"],[0.5555555555555556,\"#d8576b\"],[0.6666666666666666,\"#ed7953\"],[0.7777777777777778,\"#fb9f3a\"],[0.8888888888888888,\"#fdca26\"],[1.0,\"#f0f921\"]],\"diverging\":[[0,\"#8e0152\"],[0.1,\"#c51b7d\"],[0.2,\"#de77ae\"],[0.3,\"#f1b6da\"],[0.4,\"#fde0ef\"],[0.5,\"#f7f7f7\"],[0.6,\"#e6f5d0\"],[0.7,\"#b8e186\"],[0.8,\"#7fbc41\"],[0.9,\"#4d9221\"],[1,\"#276419\"]]},\"xaxis\":{\"gridcolor\":\"white\",\"linecolor\":\"white\",\"ticks\":\"\",\"title\":{\"standoff\":15},\"zerolinecolor\":\"white\",\"automargin\":true,\"zerolinewidth\":2},\"yaxis\":{\"gridcolor\":\"white\",\"linecolor\":\"white\",\"ticks\":\"\",\"title\":{\"standoff\":15},\"zerolinecolor\":\"white\",\"automargin\":true,\"zerolinewidth\":2},\"scene\":{\"xaxis\":{\"backgroundcolor\":\"#E5ECF6\",\"gridcolor\":\"white\",\"linecolor\":\"white\",\"showbackground\":true,\"ticks\":\"\",\"zerolinecolor\":\"white\",\"gridwidth\":2},\"yaxis\":{\"backgroundcolor\":\"#E5ECF6\",\"gridcolor\":\"white\",\"linecolor\":\"white\",\"showbackground\":true,\"ticks\":\"\",\"zerolinecolor\":\"white\",\"gridwidth\":2},\"zaxis\":{\"backgroundcolor\":\"#E5ECF6\",\"gridcolor\":\"white\",\"linecolor\":\"white\",\"showbackground\":true,\"ticks\":\"\",\"zerolinecolor\":\"white\",\"gridwidth\":2}},\"shapedefaults\":{\"line\":{\"color\":\"#2a3f5f\"}},\"annotationdefaults\":{\"arrowcolor\":\"#2a3f5f\",\"arrowhead\":0,\"arrowwidth\":1},\"geo\":{\"bgcolor\":\"white\",\"landcolor\":\"#E5ECF6\",\"subunitcolor\":\"white\",\"showland\":true,\"showlakes\":true,\"lakecolor\":\"white\"},\"title\":{\"x\":0.05},\"mapbox\":{\"style\":\"light\"}}},\"scene\":{\"xaxis\":{\"title\":{\"text\":\"X\"}},\"yaxis\":{\"title\":{\"text\":\"Y\"}},\"zaxis\":{\"title\":{\"text\":\"Z\"}}},\"title\":{\"text\":\"Visualisation 3D de la Prot\\u00e9ine\"}},                        {\"responsive\": true}                    ).then(function(){\n",
              "                            \n",
              "var gd = document.getElementById('8054d0ac-1af0-47ed-bb08-7a52056a5354');\n",
              "var x = new MutationObserver(function (mutations, observer) {{\n",
              "        var display = window.getComputedStyle(gd).display;\n",
              "        if (!display || display === 'none') {{\n",
              "            console.log([gd, 'removed!']);\n",
              "            Plotly.purge(gd);\n",
              "            observer.disconnect();\n",
              "        }}\n",
              "}});\n",
              "\n",
              "// Listen for the removal of the full notebook cells\n",
              "var notebookContainer = gd.closest('#notebook-container');\n",
              "if (notebookContainer) {{\n",
              "    x.observe(notebookContainer, {childList: true});\n",
              "}}\n",
              "\n",
              "// Listen for the clearing of the current output cell\n",
              "var outputEl = gd.closest('.output');\n",
              "if (outputEl) {{\n",
              "    x.observe(outputEl, {childList: true});\n",
              "}}\n",
              "\n",
              "                        })                };                            </script>        </div>\n",
              "</body>\n",
              "</html>"
            ]
          },
          "metadata": {}
        }
      ]
    },
    {
      "cell_type": "markdown",
      "id": "0675bdcc",
      "metadata": {
        "id": "0675bdcc"
      },
      "source": [
        "And here is an example with side chains."
      ]
    },
    {
      "cell_type": "code",
      "execution_count": null,
      "id": "105a473a",
      "metadata": {
        "id": "105a473a"
      },
      "outputs": [],
      "source": [
        "# peptide = Peptide(\"APRLR\", [\"\", \"\", \"F\", \"Y\", \"\"])\n",
        "# protein_folding_problem = ProteinFoldingProblem(peptide, mj_interaction, penalty_terms)\n",
        "# qubit_op = protein_folding_problem.qubit_op()\n",
        "# raw_result = vqe.compute_minimum_eigenvalue(qubit_op)\n",
        "# result_2 = protein_folding_problem.interpret(raw_result=raw_result)"
      ]
    },
    {
      "cell_type": "code",
      "execution_count": null,
      "id": "4b0aa85e",
      "metadata": {
        "id": "4b0aa85e"
      },
      "outputs": [],
      "source": [
        "# fig = result_2.get_figure(title=\"Protein Structure\", ticks=False, grid=True)\n",
        "# fig.get_axes()[0].view_init(10, 60)"
      ]
    },
    {
      "cell_type": "markdown",
      "id": "c835b123",
      "metadata": {
        "id": "c835b123"
      },
      "source": [
        "\n",
        "\n",
        "<font size='2'>[2] A.Robert, P.Barkoutsos, S.Woerner and I.Tavernelli, Resource-efficient quantum algorithm for protein folding, NPJ Quantum Information, 2021, https://doi.org/10.1038/s41534-021-00368-4 </font>\n",
        "\n",
        "<font size=\"2\">[3] IUPAC–IUB Commission on Biochemical Nomenclature (1972). \"A one-letter notation for aminoacid sequences\". Pure and Applied Chemistry. 31 (4): 641–645. doi:10.1351/pac197231040639. PMID 5080161.</font> <br>\n"
      ]
    }
  ],
  "metadata": {
    "interpreter": {
      "hash": "94561c5514d6ed309ef55bb744ee9b24e97b38d0ec7b9028efe679e2a743ca0e"
    },
    "kernelspec": {
      "display_name": "Python 3",
      "name": "python3"
    },
    "language_info": {
      "codemirror_mode": {
        "name": "ipython",
        "version": 3
      },
      "file_extension": ".py",
      "mimetype": "text/x-python",
      "name": "python",
      "nbconvert_exporter": "python",
      "pygments_lexer": "ipython3",
      "version": "3.10.4"
    },
    "colab": {
      "provenance": []
    }
  },
  "nbformat": 4,
  "nbformat_minor": 5
}